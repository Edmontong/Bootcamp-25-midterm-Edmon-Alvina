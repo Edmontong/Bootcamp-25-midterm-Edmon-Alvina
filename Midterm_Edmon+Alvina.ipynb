{
  "cells": [
    {
      "cell_type": "markdown",
      "metadata": {
        "id": "view-in-github",
        "colab_type": "text"
      },
      "source": [
        "<a href=\"https://colab.research.google.com/github/Edmontong/Bootcamp-25-midterm-Edmon-Alvina/blob/main/Midterm_Edmon%2BAlvina.ipynb\" target=\"_parent\"><img src=\"https://colab.research.google.com/assets/colab-badge.svg\" alt=\"Open In Colab\"/></a>"
      ]
    },
    {
      "cell_type": "markdown",
      "id": "4fb53394-9d03-4a85-9404-34b47df0eb12",
      "metadata": {
        "id": "4fb53394-9d03-4a85-9404-34b47df0eb12"
      },
      "source": [
        "# Midterm Project -- Edmon + Alvina\n",
        "\n",
        "Your midterm project will be a thematic exploration of a dataset of your choice/construction.  To begin, you are to identify a topical area of interest and whether or not you would be interested in working with a small group of your peers [here](https://docs.google.com/forms/d/e/1FAIpQLSeyrSEF1IsErHO_a1bVfcoOm2g5DbBD8rhZ_eyF4HwHkBQZVA/viewform?usp=header).\n",
        "\n"
      ]
    },
    {
      "cell_type": "markdown",
      "id": "c6d6861b-f2a9-4f53-9644-8a650edb0328",
      "metadata": {
        "id": "c6d6861b-f2a9-4f53-9644-8a650edb0328"
      },
      "source": [
        "## Determining the Data Sources\n",
        "\n",
        "For your data, you are to either build a dataset utilizing an API or identifying a website or sites to scrape.  These should be related to your topic of interest.  As a starting point, each group member should identify 2-3 resources in the form of an API or website(s) that look like they might be useful for your exploration.  Next class you will have time as a group to drill down specifics from the options you bring to the group."
      ]
    },
    {
      "cell_type": "markdown",
      "id": "a3971eae-6b85-4fa1-bc5d-d74666008fcc",
      "metadata": {
        "id": "a3971eae-6b85-4fa1-bc5d-d74666008fcc"
      },
      "source": [
        "## Exploratory Questions\n",
        "\n",
        "You should come up with a few driving questions that you believe the data will give you insight into.  This is very general, and I give some examples of projects that I believe would be meaningful.  These are likely to change a bit as you dig into your data but work to be as specific about feature names and relationships or differences to be explored."
      ]
    },
    {
      "cell_type": "markdown",
      "source": [
        "Companies: Apple (AAPL), Microsoft(MSFT\n",
        "), Circle(CRCL), Nvidia(NVDA), Meta (META\n",
        "), Alphabet (GOOG)\n",
        "\n",
        "\n",
        "[yfinance guide](https://algotrading101.com/learn/yfinance-guide/)"
      ],
      "metadata": {
        "id": "YhCOcU87pZ6G"
      },
      "id": "YhCOcU87pZ6G"
    },
    {
      "cell_type": "code",
      "source": [
        "import pandas as pd\n",
        "import numpy as np\n",
        "import requests\n",
        "import matplotlib.pyplot as plt\n",
        "import seaborn as sns\n",
        "from bs4 import BeautifulSoup\n",
        "!pip install yfinance\n",
        "import yfinance as yf\n",
        "from sklearn.linear_model import LinearRegression\n",
        "from sklearn.linear_model import LinearRegression\n",
        "from sklearn.metrics import mean_squared_error"
      ],
      "metadata": {
        "id": "hsyR_B6CiLHh",
        "colab": {
          "base_uri": "https://localhost:8080/"
        },
        "outputId": "06a0628b-2811-4b2a-ab88-0b4b78b0fb14"
      },
      "id": "hsyR_B6CiLHh",
      "execution_count": 2,
      "outputs": [
        {
          "output_type": "stream",
          "name": "stdout",
          "text": [
            "Requirement already satisfied: yfinance in /usr/local/lib/python3.12/dist-packages (0.2.66)\n",
            "Requirement already satisfied: pandas>=1.3.0 in /usr/local/lib/python3.12/dist-packages (from yfinance) (2.2.2)\n",
            "Requirement already satisfied: numpy>=1.16.5 in /usr/local/lib/python3.12/dist-packages (from yfinance) (2.0.2)\n",
            "Requirement already satisfied: requests>=2.31 in /usr/local/lib/python3.12/dist-packages (from yfinance) (2.32.4)\n",
            "Requirement already satisfied: multitasking>=0.0.7 in /usr/local/lib/python3.12/dist-packages (from yfinance) (0.0.12)\n",
            "Requirement already satisfied: platformdirs>=2.0.0 in /usr/local/lib/python3.12/dist-packages (from yfinance) (4.5.0)\n",
            "Requirement already satisfied: pytz>=2022.5 in /usr/local/lib/python3.12/dist-packages (from yfinance) (2025.2)\n",
            "Requirement already satisfied: frozendict>=2.3.4 in /usr/local/lib/python3.12/dist-packages (from yfinance) (2.4.6)\n",
            "Requirement already satisfied: peewee>=3.16.2 in /usr/local/lib/python3.12/dist-packages (from yfinance) (3.18.2)\n",
            "Requirement already satisfied: beautifulsoup4>=4.11.1 in /usr/local/lib/python3.12/dist-packages (from yfinance) (4.13.5)\n",
            "Requirement already satisfied: curl_cffi>=0.7 in /usr/local/lib/python3.12/dist-packages (from yfinance) (0.13.0)\n",
            "Requirement already satisfied: protobuf>=3.19.0 in /usr/local/lib/python3.12/dist-packages (from yfinance) (5.29.5)\n",
            "Requirement already satisfied: websockets>=13.0 in /usr/local/lib/python3.12/dist-packages (from yfinance) (15.0.1)\n",
            "Requirement already satisfied: soupsieve>1.2 in /usr/local/lib/python3.12/dist-packages (from beautifulsoup4>=4.11.1->yfinance) (2.8)\n",
            "Requirement already satisfied: typing-extensions>=4.0.0 in /usr/local/lib/python3.12/dist-packages (from beautifulsoup4>=4.11.1->yfinance) (4.15.0)\n",
            "Requirement already satisfied: cffi>=1.12.0 in /usr/local/lib/python3.12/dist-packages (from curl_cffi>=0.7->yfinance) (2.0.0)\n",
            "Requirement already satisfied: certifi>=2024.2.2 in /usr/local/lib/python3.12/dist-packages (from curl_cffi>=0.7->yfinance) (2025.10.5)\n",
            "Requirement already satisfied: python-dateutil>=2.8.2 in /usr/local/lib/python3.12/dist-packages (from pandas>=1.3.0->yfinance) (2.9.0.post0)\n",
            "Requirement already satisfied: tzdata>=2022.7 in /usr/local/lib/python3.12/dist-packages (from pandas>=1.3.0->yfinance) (2025.2)\n",
            "Requirement already satisfied: charset_normalizer<4,>=2 in /usr/local/lib/python3.12/dist-packages (from requests>=2.31->yfinance) (3.4.4)\n",
            "Requirement already satisfied: idna<4,>=2.5 in /usr/local/lib/python3.12/dist-packages (from requests>=2.31->yfinance) (3.11)\n",
            "Requirement already satisfied: urllib3<3,>=1.21.1 in /usr/local/lib/python3.12/dist-packages (from requests>=2.31->yfinance) (2.5.0)\n",
            "Requirement already satisfied: pycparser in /usr/local/lib/python3.12/dist-packages (from cffi>=1.12.0->curl_cffi>=0.7->yfinance) (2.23)\n",
            "Requirement already satisfied: six>=1.5 in /usr/local/lib/python3.12/dist-packages (from python-dateutil>=2.8.2->pandas>=1.3.0->yfinance) (1.17.0)\n"
          ]
        }
      ]
    },
    {
      "cell_type": "code",
      "source": [
        "tickers = ['AAPL', 'MSFT', 'NVDA', 'META', 'GOOG']    #the companies we chose to get data on"
      ],
      "metadata": {
        "id": "QCsBjYMYiLFt"
      },
      "id": "QCsBjYMYiLFt",
      "execution_count": 3,
      "outputs": []
    },
    {
      "cell_type": "markdown",
      "source": [
        "#Price to Earnings Ratio"
      ],
      "metadata": {
        "id": "Ua6VriE8Rra5"
      },
      "id": "Ua6VriE8Rra5"
    },
    {
      "cell_type": "code",
      "source": [
        "#Price to Earnings Ratio\n",
        "data = {}\n",
        "\n",
        "for ticker in tickers:\n",
        "\n",
        "    stock = yf.Ticker(ticker)\n",
        "    info = stock.info\n",
        "\n",
        "    trailing_pe = info.get('trailingPE')   #trailing_pe -> the past 12 months\n",
        "    forward_pe = info.get('forwardPE')     #forward_pe  -> the next 12 months\n",
        "\n",
        "    data[ticker] = {\n",
        "        'Trailing P/E': trailing_pe,\n",
        "        'Forward P/E': forward_pe\n",
        "    }\n",
        "\n",
        "pe_df = pd.DataFrame.from_dict(data, orient = 'index')\n",
        "pe_df.index.name = 'Ticker'\n",
        "pe_df"
      ],
      "metadata": {
        "id": "uvJ9nxxeiLDj",
        "colab": {
          "base_uri": "https://localhost:8080/",
          "height": 238
        },
        "outputId": "df020342-f235-4f24-a141-a4b76e25e01c"
      },
      "id": "uvJ9nxxeiLDj",
      "execution_count": 4,
      "outputs": [
        {
          "output_type": "execute_result",
          "data": {
            "text/plain": [
              "        Trailing P/E  Forward P/E\n",
              "Ticker                           \n",
              "AAPL       39.455082    31.288687\n",
              "MSFT       38.279324    34.925083\n",
              "NVDA       51.813126    44.267525\n",
              "META       26.634700    29.034983\n",
              "GOOG       27.105656    28.377653"
            ],
            "text/html": [
              "\n",
              "  <div id=\"df-8aa01e58-e7ce-45b2-952d-e50a5d7cef34\" class=\"colab-df-container\">\n",
              "    <div>\n",
              "<style scoped>\n",
              "    .dataframe tbody tr th:only-of-type {\n",
              "        vertical-align: middle;\n",
              "    }\n",
              "\n",
              "    .dataframe tbody tr th {\n",
              "        vertical-align: top;\n",
              "    }\n",
              "\n",
              "    .dataframe thead th {\n",
              "        text-align: right;\n",
              "    }\n",
              "</style>\n",
              "<table border=\"1\" class=\"dataframe\">\n",
              "  <thead>\n",
              "    <tr style=\"text-align: right;\">\n",
              "      <th></th>\n",
              "      <th>Trailing P/E</th>\n",
              "      <th>Forward P/E</th>\n",
              "    </tr>\n",
              "    <tr>\n",
              "      <th>Ticker</th>\n",
              "      <th></th>\n",
              "      <th></th>\n",
              "    </tr>\n",
              "  </thead>\n",
              "  <tbody>\n",
              "    <tr>\n",
              "      <th>AAPL</th>\n",
              "      <td>39.455082</td>\n",
              "      <td>31.288687</td>\n",
              "    </tr>\n",
              "    <tr>\n",
              "      <th>MSFT</th>\n",
              "      <td>38.279324</td>\n",
              "      <td>34.925083</td>\n",
              "    </tr>\n",
              "    <tr>\n",
              "      <th>NVDA</th>\n",
              "      <td>51.813126</td>\n",
              "      <td>44.267525</td>\n",
              "    </tr>\n",
              "    <tr>\n",
              "      <th>META</th>\n",
              "      <td>26.634700</td>\n",
              "      <td>29.034983</td>\n",
              "    </tr>\n",
              "    <tr>\n",
              "      <th>GOOG</th>\n",
              "      <td>27.105656</td>\n",
              "      <td>28.377653</td>\n",
              "    </tr>\n",
              "  </tbody>\n",
              "</table>\n",
              "</div>\n",
              "    <div class=\"colab-df-buttons\">\n",
              "\n",
              "  <div class=\"colab-df-container\">\n",
              "    <button class=\"colab-df-convert\" onclick=\"convertToInteractive('df-8aa01e58-e7ce-45b2-952d-e50a5d7cef34')\"\n",
              "            title=\"Convert this dataframe to an interactive table.\"\n",
              "            style=\"display:none;\">\n",
              "\n",
              "  <svg xmlns=\"http://www.w3.org/2000/svg\" height=\"24px\" viewBox=\"0 -960 960 960\">\n",
              "    <path d=\"M120-120v-720h720v720H120Zm60-500h600v-160H180v160Zm220 220h160v-160H400v160Zm0 220h160v-160H400v160ZM180-400h160v-160H180v160Zm440 0h160v-160H620v160ZM180-180h160v-160H180v160Zm440 0h160v-160H620v160Z\"/>\n",
              "  </svg>\n",
              "    </button>\n",
              "\n",
              "  <style>\n",
              "    .colab-df-container {\n",
              "      display:flex;\n",
              "      gap: 12px;\n",
              "    }\n",
              "\n",
              "    .colab-df-convert {\n",
              "      background-color: #E8F0FE;\n",
              "      border: none;\n",
              "      border-radius: 50%;\n",
              "      cursor: pointer;\n",
              "      display: none;\n",
              "      fill: #1967D2;\n",
              "      height: 32px;\n",
              "      padding: 0 0 0 0;\n",
              "      width: 32px;\n",
              "    }\n",
              "\n",
              "    .colab-df-convert:hover {\n",
              "      background-color: #E2EBFA;\n",
              "      box-shadow: 0px 1px 2px rgba(60, 64, 67, 0.3), 0px 1px 3px 1px rgba(60, 64, 67, 0.15);\n",
              "      fill: #174EA6;\n",
              "    }\n",
              "\n",
              "    .colab-df-buttons div {\n",
              "      margin-bottom: 4px;\n",
              "    }\n",
              "\n",
              "    [theme=dark] .colab-df-convert {\n",
              "      background-color: #3B4455;\n",
              "      fill: #D2E3FC;\n",
              "    }\n",
              "\n",
              "    [theme=dark] .colab-df-convert:hover {\n",
              "      background-color: #434B5C;\n",
              "      box-shadow: 0px 1px 3px 1px rgba(0, 0, 0, 0.15);\n",
              "      filter: drop-shadow(0px 1px 2px rgba(0, 0, 0, 0.3));\n",
              "      fill: #FFFFFF;\n",
              "    }\n",
              "  </style>\n",
              "\n",
              "    <script>\n",
              "      const buttonEl =\n",
              "        document.querySelector('#df-8aa01e58-e7ce-45b2-952d-e50a5d7cef34 button.colab-df-convert');\n",
              "      buttonEl.style.display =\n",
              "        google.colab.kernel.accessAllowed ? 'block' : 'none';\n",
              "\n",
              "      async function convertToInteractive(key) {\n",
              "        const element = document.querySelector('#df-8aa01e58-e7ce-45b2-952d-e50a5d7cef34');\n",
              "        const dataTable =\n",
              "          await google.colab.kernel.invokeFunction('convertToInteractive',\n",
              "                                                    [key], {});\n",
              "        if (!dataTable) return;\n",
              "\n",
              "        const docLinkHtml = 'Like what you see? Visit the ' +\n",
              "          '<a target=\"_blank\" href=https://colab.research.google.com/notebooks/data_table.ipynb>data table notebook</a>'\n",
              "          + ' to learn more about interactive tables.';\n",
              "        element.innerHTML = '';\n",
              "        dataTable['output_type'] = 'display_data';\n",
              "        await google.colab.output.renderOutput(dataTable, element);\n",
              "        const docLink = document.createElement('div');\n",
              "        docLink.innerHTML = docLinkHtml;\n",
              "        element.appendChild(docLink);\n",
              "      }\n",
              "    </script>\n",
              "  </div>\n",
              "\n",
              "\n",
              "    <div id=\"df-8ae09788-88fc-4013-9056-3e23fd4f93ce\">\n",
              "      <button class=\"colab-df-quickchart\" onclick=\"quickchart('df-8ae09788-88fc-4013-9056-3e23fd4f93ce')\"\n",
              "                title=\"Suggest charts\"\n",
              "                style=\"display:none;\">\n",
              "\n",
              "<svg xmlns=\"http://www.w3.org/2000/svg\" height=\"24px\"viewBox=\"0 0 24 24\"\n",
              "     width=\"24px\">\n",
              "    <g>\n",
              "        <path d=\"M19 3H5c-1.1 0-2 .9-2 2v14c0 1.1.9 2 2 2h14c1.1 0 2-.9 2-2V5c0-1.1-.9-2-2-2zM9 17H7v-7h2v7zm4 0h-2V7h2v10zm4 0h-2v-4h2v4z\"/>\n",
              "    </g>\n",
              "</svg>\n",
              "      </button>\n",
              "\n",
              "<style>\n",
              "  .colab-df-quickchart {\n",
              "      --bg-color: #E8F0FE;\n",
              "      --fill-color: #1967D2;\n",
              "      --hover-bg-color: #E2EBFA;\n",
              "      --hover-fill-color: #174EA6;\n",
              "      --disabled-fill-color: #AAA;\n",
              "      --disabled-bg-color: #DDD;\n",
              "  }\n",
              "\n",
              "  [theme=dark] .colab-df-quickchart {\n",
              "      --bg-color: #3B4455;\n",
              "      --fill-color: #D2E3FC;\n",
              "      --hover-bg-color: #434B5C;\n",
              "      --hover-fill-color: #FFFFFF;\n",
              "      --disabled-bg-color: #3B4455;\n",
              "      --disabled-fill-color: #666;\n",
              "  }\n",
              "\n",
              "  .colab-df-quickchart {\n",
              "    background-color: var(--bg-color);\n",
              "    border: none;\n",
              "    border-radius: 50%;\n",
              "    cursor: pointer;\n",
              "    display: none;\n",
              "    fill: var(--fill-color);\n",
              "    height: 32px;\n",
              "    padding: 0;\n",
              "    width: 32px;\n",
              "  }\n",
              "\n",
              "  .colab-df-quickchart:hover {\n",
              "    background-color: var(--hover-bg-color);\n",
              "    box-shadow: 0 1px 2px rgba(60, 64, 67, 0.3), 0 1px 3px 1px rgba(60, 64, 67, 0.15);\n",
              "    fill: var(--button-hover-fill-color);\n",
              "  }\n",
              "\n",
              "  .colab-df-quickchart-complete:disabled,\n",
              "  .colab-df-quickchart-complete:disabled:hover {\n",
              "    background-color: var(--disabled-bg-color);\n",
              "    fill: var(--disabled-fill-color);\n",
              "    box-shadow: none;\n",
              "  }\n",
              "\n",
              "  .colab-df-spinner {\n",
              "    border: 2px solid var(--fill-color);\n",
              "    border-color: transparent;\n",
              "    border-bottom-color: var(--fill-color);\n",
              "    animation:\n",
              "      spin 1s steps(1) infinite;\n",
              "  }\n",
              "\n",
              "  @keyframes spin {\n",
              "    0% {\n",
              "      border-color: transparent;\n",
              "      border-bottom-color: var(--fill-color);\n",
              "      border-left-color: var(--fill-color);\n",
              "    }\n",
              "    20% {\n",
              "      border-color: transparent;\n",
              "      border-left-color: var(--fill-color);\n",
              "      border-top-color: var(--fill-color);\n",
              "    }\n",
              "    30% {\n",
              "      border-color: transparent;\n",
              "      border-left-color: var(--fill-color);\n",
              "      border-top-color: var(--fill-color);\n",
              "      border-right-color: var(--fill-color);\n",
              "    }\n",
              "    40% {\n",
              "      border-color: transparent;\n",
              "      border-right-color: var(--fill-color);\n",
              "      border-top-color: var(--fill-color);\n",
              "    }\n",
              "    60% {\n",
              "      border-color: transparent;\n",
              "      border-right-color: var(--fill-color);\n",
              "    }\n",
              "    80% {\n",
              "      border-color: transparent;\n",
              "      border-right-color: var(--fill-color);\n",
              "      border-bottom-color: var(--fill-color);\n",
              "    }\n",
              "    90% {\n",
              "      border-color: transparent;\n",
              "      border-bottom-color: var(--fill-color);\n",
              "    }\n",
              "  }\n",
              "</style>\n",
              "\n",
              "      <script>\n",
              "        async function quickchart(key) {\n",
              "          const quickchartButtonEl =\n",
              "            document.querySelector('#' + key + ' button');\n",
              "          quickchartButtonEl.disabled = true;  // To prevent multiple clicks.\n",
              "          quickchartButtonEl.classList.add('colab-df-spinner');\n",
              "          try {\n",
              "            const charts = await google.colab.kernel.invokeFunction(\n",
              "                'suggestCharts', [key], {});\n",
              "          } catch (error) {\n",
              "            console.error('Error during call to suggestCharts:', error);\n",
              "          }\n",
              "          quickchartButtonEl.classList.remove('colab-df-spinner');\n",
              "          quickchartButtonEl.classList.add('colab-df-quickchart-complete');\n",
              "        }\n",
              "        (() => {\n",
              "          let quickchartButtonEl =\n",
              "            document.querySelector('#df-8ae09788-88fc-4013-9056-3e23fd4f93ce button');\n",
              "          quickchartButtonEl.style.display =\n",
              "            google.colab.kernel.accessAllowed ? 'block' : 'none';\n",
              "        })();\n",
              "      </script>\n",
              "    </div>\n",
              "\n",
              "  <div id=\"id_8c8532a1-2154-4eaa-ba08-9982be00e4db\">\n",
              "    <style>\n",
              "      .colab-df-generate {\n",
              "        background-color: #E8F0FE;\n",
              "        border: none;\n",
              "        border-radius: 50%;\n",
              "        cursor: pointer;\n",
              "        display: none;\n",
              "        fill: #1967D2;\n",
              "        height: 32px;\n",
              "        padding: 0 0 0 0;\n",
              "        width: 32px;\n",
              "      }\n",
              "\n",
              "      .colab-df-generate:hover {\n",
              "        background-color: #E2EBFA;\n",
              "        box-shadow: 0px 1px 2px rgba(60, 64, 67, 0.3), 0px 1px 3px 1px rgba(60, 64, 67, 0.15);\n",
              "        fill: #174EA6;\n",
              "      }\n",
              "\n",
              "      [theme=dark] .colab-df-generate {\n",
              "        background-color: #3B4455;\n",
              "        fill: #D2E3FC;\n",
              "      }\n",
              "\n",
              "      [theme=dark] .colab-df-generate:hover {\n",
              "        background-color: #434B5C;\n",
              "        box-shadow: 0px 1px 3px 1px rgba(0, 0, 0, 0.15);\n",
              "        filter: drop-shadow(0px 1px 2px rgba(0, 0, 0, 0.3));\n",
              "        fill: #FFFFFF;\n",
              "      }\n",
              "    </style>\n",
              "    <button class=\"colab-df-generate\" onclick=\"generateWithVariable('pe_df')\"\n",
              "            title=\"Generate code using this dataframe.\"\n",
              "            style=\"display:none;\">\n",
              "\n",
              "  <svg xmlns=\"http://www.w3.org/2000/svg\" height=\"24px\"viewBox=\"0 0 24 24\"\n",
              "       width=\"24px\">\n",
              "    <path d=\"M7,19H8.4L18.45,9,17,7.55,7,17.6ZM5,21V16.75L18.45,3.32a2,2,0,0,1,2.83,0l1.4,1.43a1.91,1.91,0,0,1,.58,1.4,1.91,1.91,0,0,1-.58,1.4L9.25,21ZM18.45,9,17,7.55Zm-12,3A5.31,5.31,0,0,0,4.9,8.1,5.31,5.31,0,0,0,1,6.5,5.31,5.31,0,0,0,4.9,4.9,5.31,5.31,0,0,0,6.5,1,5.31,5.31,0,0,0,8.1,4.9,5.31,5.31,0,0,0,12,6.5,5.46,5.46,0,0,0,6.5,12Z\"/>\n",
              "  </svg>\n",
              "    </button>\n",
              "    <script>\n",
              "      (() => {\n",
              "      const buttonEl =\n",
              "        document.querySelector('#id_8c8532a1-2154-4eaa-ba08-9982be00e4db button.colab-df-generate');\n",
              "      buttonEl.style.display =\n",
              "        google.colab.kernel.accessAllowed ? 'block' : 'none';\n",
              "\n",
              "      buttonEl.onclick = () => {\n",
              "        google.colab.notebook.generateWithVariable('pe_df');\n",
              "      }\n",
              "      })();\n",
              "    </script>\n",
              "  </div>\n",
              "\n",
              "    </div>\n",
              "  </div>\n"
            ],
            "application/vnd.google.colaboratory.intrinsic+json": {
              "type": "dataframe",
              "variable_name": "pe_df",
              "summary": "{\n  \"name\": \"pe_df\",\n  \"rows\": 5,\n  \"fields\": [\n    {\n      \"column\": \"Ticker\",\n      \"properties\": {\n        \"dtype\": \"string\",\n        \"num_unique_values\": 5,\n        \"samples\": [\n          \"MSFT\",\n          \"GOOG\",\n          \"NVDA\"\n        ],\n        \"semantic_type\": \"\",\n        \"description\": \"\"\n      }\n    },\n    {\n      \"column\": \"Trailing P/E\",\n      \"properties\": {\n        \"dtype\": \"number\",\n        \"std\": 10.390428542603562,\n        \"min\": 26.6347,\n        \"max\": 51.813126,\n        \"num_unique_values\": 5,\n        \"samples\": [\n          38.279324,\n          27.105656,\n          51.813126\n        ],\n        \"semantic_type\": \"\",\n        \"description\": \"\"\n      }\n    },\n    {\n      \"column\": \"Forward P/E\",\n      \"properties\": {\n        \"dtype\": \"number\",\n        \"std\": 6.500079627178208,\n        \"min\": 28.377653,\n        \"max\": 44.267525,\n        \"num_unique_values\": 5,\n        \"samples\": [\n          34.925083,\n          28.377653,\n          44.267525\n        ],\n        \"semantic_type\": \"\",\n        \"description\": \"\"\n      }\n    }\n  ]\n}"
            }
          },
          "metadata": {},
          "execution_count": 4
        }
      ]
    },
    {
      "cell_type": "code",
      "source": [
        "plot_df = pe_df.stack().reset_index()\n",
        "plot_df.columns = ['Ticker', 'PE Type', 'PE Ratio']\n",
        "sns.barplot(\n",
        "    data=plot_df,\n",
        "    x='Ticker',\n",
        "    y='PE Ratio',\n",
        "    hue='PE Type'\n",
        ")\n",
        "\n",
        "plt.xlabel('Company')\n",
        "plt.ylabel('Price to Earnings Ratio')\n",
        "plt.title('Trailing vs. Forward P/E Ratio', fontweight='bold');"
      ],
      "metadata": {
        "colab": {
          "base_uri": "https://localhost:8080/",
          "height": 472
        },
        "id": "3I-gGxxy28KN",
        "outputId": "9ce411a7-a356-4704-e29a-b7204d79fffd"
      },
      "id": "3I-gGxxy28KN",
      "execution_count": 7,
      "outputs": [
        {
          "output_type": "display_data",
          "data": {
            "text/plain": [
              "<Figure size 640x480 with 1 Axes>"
            ],
            "image/png": "[encoded data removed]"
          },
          "metadata": {}
        }
      ]
    },
    {
      "cell_type": "markdown",
      "source": [
        "##Free Cashflow"
      ],
      "metadata": {
        "id": "TOdWNFlxRnZQ"
      },
      "id": "TOdWNFlxRnZQ"
    },
    {
      "cell_type": "code",
      "source": [
        "#Freecashflows\n",
        "#Free cash flow = operating cf - investing cf\n",
        "#Measure how much cash the company has left to paying dividends, buy back shares & debts, etc.\n",
        "#reflecting how comfortable a company is; how much flexibility the company has\n",
        "freecashflow = []\n",
        "for ticker in tickers:\n",
        "  ticker = yf.Ticker(ticker)\n",
        "  cf = ticker.cashflow\n",
        "  opc = cf.loc['Cash Flow From Continuing Operating Activities'] #get recent 4 years of operating cashflow\n",
        "  icf = cf.loc['Cash Flow From Continuing Investing Activities'] #get recent 4 years of investing cashflow\n",
        "  fcf = []\n",
        "  for i,j in zip(opc, icf): #loop over each year's opc and icf for each company\n",
        "    k = i - j #each year's fcf\n",
        "    fcf.append(k) #list of fcf for 4 recent years\n",
        "  freecashflow.append(fcf)\n",
        "df_fcf = pd.DataFrame(freecashflow, columns=['2025','2024','2023','2022','2021'])\n",
        "df_fcf.index = tickers\n",
        "df_fcf.T.dropna()\n"
      ],
      "metadata": {
        "id": "C9AMp0NOiLBW"
      },
      "id": "C9AMp0NOiLBW",
      "execution_count": null,
      "outputs": []
    },
    {
      "cell_type": "code",
      "source": [
        "df_transposed = df_fcf.transpose()\n",
        "df_transposed.index = df_transposed.index.astype(int) # Converts the year strings to numbers (e.g., '2022' becomes 2022)\n",
        "df_transposed.sort_index(ascending=True, inplace=True)\n",
        "sns.lineplot(data=df_transposed, dashes=False, marker='o')\n",
        "plt.title('Free Cash Flow Trend (2022–2025)')\n",
        "plt.ylabel('Free Cash Flow (in hundreds of billions)')\n",
        "plt.xlabel('Year');"
      ],
      "metadata": {
        "id": "m_pyjfo03EUz"
      },
      "id": "m_pyjfo03EUz",
      "execution_count": null,
      "outputs": []
    },
    {
      "cell_type": "markdown",
      "source": [
        "##Cash Conversion Ratio"
      ],
      "metadata": {
        "id": "yW9_Vy9jRha9"
      },
      "id": "yW9_Vy9jRha9"
    },
    {
      "cell_type": "code",
      "source": [
        "#cash conversion ratio\n",
        "#cash conversion ratio = opc/net income\n",
        "#How much earnings the company actually receive from net income\n",
        "#Reflect how true the company's income is\n",
        "cash_conversion_ratio = []\n",
        "for ticker in tickers:\n",
        "  ticker = yf.Ticker(ticker)\n",
        "  incomestatment = ticker.financials\n",
        "  net_income = incomestatment.loc['Net Income']\n",
        "  cf = ticker.cashflow\n",
        "  opc = cf.loc['Cash Flow From Continuing Operating Activities']\n",
        "  ccr = []\n",
        "  for i,j in zip(opc, net_income): #loop over each year's opc and net income for each company\n",
        "    k = i/j # each year's ccr\n",
        "    ccr.append(k)\n",
        "  cash_conversion_ratio.append(ccr)\n",
        "df_ccr = pd.DataFrame(cash_conversion_ratio, columns=['2025','2024','2023','2022','2021'])\n",
        "df_ccr.index = tickers\n",
        "df_ccr.T.dropna()\n"
      ],
      "metadata": {
        "id": "iNQkucHhKFS0"
      },
      "id": "iNQkucHhKFS0",
      "execution_count": null,
      "outputs": []
    },
    {
      "cell_type": "code",
      "source": [
        "ccr_plot = df_ccr.transpose()\n",
        "ccr_plot.index = ccr_plot.index.astype(int)\n",
        "ccr_plot.sort_index(ascending=True, inplace=True)\n",
        "sns.lineplot(\n",
        "    data=ccr_plot,\n",
        "    dashes=False,\n",
        "    marker='o',\n",
        ")\n",
        "\n",
        "plt.title('Cash Conversion Ratio Trend (2022-2025 Forecast)', fontsize=16)\n",
        "plt.ylabel('Cash Conversion Ratio (%)', fontsize=12)\n",
        "plt.xlabel('Year', fontsize=12);"
      ],
      "metadata": {
        "id": "n-J9JW_YRYV3"
      },
      "id": "n-J9JW_YRYV3",
      "execution_count": null,
      "outputs": []
    },
    {
      "cell_type": "markdown",
      "source": [
        "##Return on Invested Capital (ROIC ratio)"
      ],
      "metadata": {
        "id": "d73yE2pwS7SA"
      },
      "id": "d73yE2pwS7SA"
    },
    {
      "cell_type": "code",
      "source": [
        "# ROIC = NOPAT / Invested Capital\n",
        "# where NOPAT = EBIT * (1 - Tax Rate)\n",
        "\n",
        "roic_ratio = []\n",
        "\n",
        "for ticker in tickers:\n",
        "    ticker = yf.Ticker(ticker)\n",
        "    income = ticker.financials\n",
        "    balance = ticker.balance_sheet\n",
        "\n",
        "    ebit = income.loc['Operating Income']\n",
        "    tax_rate = income.loc['Tax Rate For Calcs']\n",
        "    invested_capital = balance.loc['Invested Capital']\n",
        "\n",
        "\n",
        "    roic_each = []\n",
        "    for e, t, ic in zip(ebit, tax_rate, invested_capital):\n",
        "          nopat = e * (1 - t)\n",
        "          roic_each.append((nopat / ic) * 100)\n",
        "    roic_ratio.append(roic_each)\n",
        "\n",
        "df_roic = pd.DataFrame(roic_ratio, columns=['2025', '2024', '2023', '2022', '2021'])\n",
        "df_roic.index = tickers\n",
        "df_roic = df_roic.T.dropna()\n",
        "\n",
        "df_roic\n"
      ],
      "metadata": {
        "id": "48FKO6CyJZQO"
      },
      "id": "48FKO6CyJZQO",
      "execution_count": null,
      "outputs": []
    },
    {
      "cell_type": "code",
      "source": [
        "df_roic.index = df_roic.index.astype(int)\n",
        "df_roic.sort_index(ascending=True, inplace=True)\n",
        "\n",
        "sns.lineplot(\n",
        "    data=df_roic,\n",
        "    dashes=False,\n",
        "    marker='o',)\n",
        "\n",
        "plt.title('ROIC from 2022 to 2025', fontsize=16)\n",
        "plt.ylabel('ROIC', fontsize=12)\n",
        "plt.xlabel('Year', fontsize=12);"
      ],
      "metadata": {
        "id": "A5vePhQAhYBH"
      },
      "id": "A5vePhQAhYBH",
      "execution_count": null,
      "outputs": []
    },
    {
      "cell_type": "markdown",
      "source": [
        "##Revenue"
      ],
      "metadata": {
        "id": "71WDJeX4SvLs"
      },
      "id": "71WDJeX4SvLs"
    },
    {
      "cell_type": "code",
      "source": [
        "#Total Revenue\n",
        "#Revenue growth reflects market demand and pricing power, possibly indicating a company's advantage in the industry\n",
        "total_revenue = []\n",
        "for ticker in tickers:\n",
        "    ticker = yf.Ticker(ticker)\n",
        "    income_statement = ticker.financials\n",
        "    tr = income_statement.loc['Total Revenue']\n",
        "    total_revenue.append(tr.values)\n",
        "df_tr = pd.DataFrame(\n",
        "    total_revenue,\n",
        "    columns=['2025', '2024', '2023', '2022', '2021'],\n",
        "    index=tickers)\n",
        "df_tr = df_tr.T.dropna()\n",
        "df_tr"
      ],
      "metadata": {
        "id": "UZaekFZU6WP4"
      },
      "id": "UZaekFZU6WP4",
      "execution_count": null,
      "outputs": []
    },
    {
      "cell_type": "code",
      "source": [
        "#Revenue change rate\n",
        "growth_data = {}\n",
        "\n",
        "for ticker in tickers:\n",
        "    t = yf.Ticker(ticker)\n",
        "    income = t.financials\n",
        "    revenue = income.loc['Total Revenue']\n",
        "    rev = list(revenue[::-1])#convert pandas series to list, flip its order so the first data is 2022 instead of 2025\n",
        "    rev = rev[-4:]\n",
        "    # Growth rates for the 3-year span, as growth rate for the first year, 2022, can not be computed\n",
        "    rgr_2023 = ((rev[1] - rev[0]) / rev[0]) * 100\n",
        "    rgr_2024 = ((rev[2] - rev[1]) / rev[1]) * 100\n",
        "    rgr_2025 = ((rev[3] - rev[2]) / rev[2]) * 100\n",
        "\n",
        "    growth_data[ticker] = [rgr_2023, rgr_2024, rgr_2025]\n",
        "df_revenue_growth_rate = pd.DataFrame(growth_data, index=[2023, 2024, 2025]).round(2)\n",
        "df_revenue_growth_rate\n"
      ],
      "metadata": {
        "id": "lbGDNUrWe6KB"
      },
      "id": "lbGDNUrWe6KB",
      "execution_count": null,
      "outputs": []
    },
    {
      "cell_type": "markdown",
      "source": [
        "##Earnings per share"
      ],
      "metadata": {
        "id": "S0AjglJ5Tf5b"
      },
      "id": "S0AjglJ5Tf5b"
    },
    {
      "cell_type": "code",
      "source": [
        "#EPS\n",
        "#EPS Growth is significant to investors as they hold the company's stock and may benefit from increase in dividends paid due to EPS increases, also meaning that the price of shares itself would likely increase\n",
        "EPS = []\n",
        "for ticker in tickers:\n",
        "    t = yf.Ticker(ticker)\n",
        "    income_statement = t.financials\n",
        "    eps = income_statement.loc['Diluted EPS']\n",
        "    EPS.append(eps.values)\n",
        "df_eps = pd.DataFrame(\n",
        "    EPS,\n",
        "    columns=['2025', '2024', '2023', '2022', '2021'],\n",
        "    index=tickers)\n",
        "df_eps = df_eps.T.dropna()\n",
        "df_eps"
      ],
      "metadata": {
        "id": "Nh1qfa8ihBNq"
      },
      "id": "Nh1qfa8ihBNq",
      "execution_count": null,
      "outputs": []
    },
    {
      "cell_type": "code",
      "source": [
        "#EPS change rate\n",
        "eps_growth = []\n",
        "for ticker in tickers:\n",
        "    t = yf.Ticker(ticker)\n",
        "    income_statement = t.financials\n",
        "    eps = income_statement.loc['Diluted EPS']\n",
        "    eps = list(eps[::-1])\n",
        "    eps = eps[-4:]\n",
        "    g_2023 = ((eps[1] - eps[0]) / eps[0]) * 100       #growth rate of a specific year = (this year - last year)/last year *100%\n",
        "    g_2024 = ((eps[2] - eps[1]) / eps[1]) * 100\n",
        "    g_2025 = ((eps[3] - eps[2]) / eps[2]) * 100\n",
        "    eps_growth.append([g_2023, g_2024, g_2025])\n",
        "df_eps_growth = pd.DataFrame(\n",
        "    eps_growth,\n",
        "    columns=['2023', '2024', '2025'],\n",
        "    index=tickers).T\n",
        "df_eps_growth"
      ],
      "metadata": {
        "id": "eWovNIHa6WKH"
      },
      "id": "eWovNIHa6WKH",
      "execution_count": null,
      "outputs": []
    },
    {
      "cell_type": "markdown",
      "source": [
        "##Net income"
      ],
      "metadata": {
        "id": "TlchKhoSSPQ1"
      },
      "id": "TlchKhoSSPQ1"
    },
    {
      "cell_type": "code",
      "source": [
        "#Net income\n",
        "net_income = []\n",
        "for ticker in tickers:\n",
        "    t = yf.Ticker(ticker)\n",
        "    income_statement = t.financials\n",
        "    ni = income_statement.loc['Net Income']\n",
        "    net_income.append(ni.values)\n",
        "df_ni = pd.DataFrame(\n",
        "    net_income,\n",
        "    columns=['2025', '2024', '2023', '2022', '2021'],\n",
        "    index=tickers)\n",
        "df_ni = df_ni.T.dropna()\n",
        "df_ni"
      ],
      "metadata": {
        "id": "6KtGC18G6WID"
      },
      "id": "6KtGC18G6WID",
      "execution_count": null,
      "outputs": []
    },
    {
      "cell_type": "code",
      "source": [
        "#Net income growth rate\n",
        "ni_growth = []\n",
        "for ticker in tickers:\n",
        "    t = yf.Ticker(ticker)\n",
        "    income_statement = t.financials\n",
        "    ni = income_statement.loc['Net Income']\n",
        "    ni = list(ni[::-1])\n",
        "    ni = ni[-4:]\n",
        "    g_2023 = ((ni[1] - ni[0]) / ni[0]) * 100\n",
        "    g_2024 = ((ni[2] - ni[1]) / ni[1]) * 100\n",
        "    g_2025 = ((ni[3] - ni[2]) / ni[2]) * 100\n",
        "    ni_growth.append([g_2023, g_2024, g_2025])\n",
        "df_ni_growth = pd.DataFrame(\n",
        "    ni_growth,\n",
        "    columns=['2023', '2024', '2025'],\n",
        "    index=tickers).T\n",
        "df_ni_growth"
      ],
      "metadata": {
        "id": "b67589HekDNl"
      },
      "id": "b67589HekDNl",
      "execution_count": null,
      "outputs": []
    },
    {
      "cell_type": "markdown",
      "source": [
        "##Operating Cashflow"
      ],
      "metadata": {
        "id": "1Fy03j3oSL8-"
      },
      "id": "1Fy03j3oSL8-"
    },
    {
      "cell_type": "code",
      "source": [
        "#operating cash flow\n",
        "#the cash generated from the company's core business operation\n",
        "#key indicator to how well the company's business is going\n",
        "OPC = []\n",
        "for ticker in tickers:\n",
        "    t = yf.Ticker(ticker)\n",
        "    cashflow = t.cashflow\n",
        "    opc = cashflow.loc['Cash Flow From Continuing Operating Activities']\n",
        "    OPC.append(opc.values)\n",
        "df_opc = pd.DataFrame(\n",
        "    OPC,\n",
        "    columns=['2025', '2024', '2023', '2022', '2021'],\n",
        "    index=tickers)\n",
        "df_opc = df_opc.T.dropna()\n",
        "df_opc\n"
      ],
      "metadata": {
        "id": "DKwmHiP-6WF_"
      },
      "id": "DKwmHiP-6WF_",
      "execution_count": null,
      "outputs": []
    },
    {
      "cell_type": "code",
      "source": [
        "#operating cash flow growth rate\n",
        "opc_growth = []\n",
        "for ticker in tickers:\n",
        "    t = yf.Ticker(ticker)\n",
        "    cashflow = t.cashflow\n",
        "    opc = cashflow.loc['Cash Flow From Continuing Operating Activities']\n",
        "    opc = list(opc[::-1])\n",
        "    opc = opc[-4:]\n",
        "    g_2023 = ((opc[1] - opc[0]) / opc[0]) * 100\n",
        "    g_2024 = ((opc[2] - opc[1]) / opc[1]) * 100\n",
        "    g_2025 = ((opc[3] - opc[2]) / opc[2]) * 100\n",
        "    opc_growth.append([g_2023, g_2024, g_2025])\n",
        "df_opc_growth = pd.DataFrame(\n",
        "    opc_growth,\n",
        "    columns=['2023', '2024', '2025'],\n",
        "    index=tickers).T\n",
        "df_opc_growth"
      ],
      "metadata": {
        "id": "P7CdactvlKKb"
      },
      "id": "P7CdactvlKKb",
      "execution_count": null,
      "outputs": []
    },
    {
      "cell_type": "markdown",
      "source": [
        "##Dividends amount"
      ],
      "metadata": {
        "id": "eyRozoqPSIfp"
      },
      "id": "eyRozoqPSIfp"
    },
    {
      "cell_type": "code",
      "source": [
        "#Dividends\n",
        "\n",
        "all_tickers_data = yf.Tickers(tickers)\n",
        "dividends_data = {}\n",
        "\n",
        "for ticker in tickers:\n",
        "    ticker_object = all_tickers_data.tickers[ticker]\n",
        "\n",
        "    divs = ticker_object.dividends\n",
        "    divs_df = divs.reset_index()\n",
        "    divs_df = divs_df.rename(columns={'Dividends': 'Dividend Amount'})\n",
        "\n",
        "    divs_df['Ticker'] = ticker\n",
        "\n",
        "    dividends_data[ticker] = divs_df\n",
        "master_dividends_db = pd.concat(dividends_data.values(), ignore_index=True)\n",
        "\n",
        "master_dividends_db = master_dividends_db[['Ticker', 'Date', 'Dividend Amount']]\n",
        "\n",
        "master_dividends_db['Date'] = master_dividends_db['Date'].dt.tz_localize(None)   #Apply boolean indexing to filter the rows by date range\n",
        "master_dividends_db = master_dividends_db[\n",
        "    (master_dividends_db['Date'] >= pd.to_datetime('2021-01-01')) &\n",
        "    (master_dividends_db['Date'] <= pd.to_datetime('2025-12-31'))\n",
        "]\n",
        "master_dividends_db.head()"
      ],
      "metadata": {
        "id": "hAY2gRO3RYTy",
        "colab": {
          "base_uri": "https://localhost:8080/",
          "height": 206
        },
        "outputId": "43b6a0ba-69a7-4d90-8d0f-4452cd012b8f"
      },
      "id": "hAY2gRO3RYTy",
      "execution_count": 8,
      "outputs": [
        {
          "output_type": "execute_result",
          "data": {
            "text/plain": [
              "   Ticker       Date  Dividend Amount\n",
              "69   AAPL 2021-02-05            0.205\n",
              "70   AAPL 2021-05-07            0.220\n",
              "71   AAPL 2021-08-06            0.220\n",
              "72   AAPL 2021-11-05            0.220\n",
              "73   AAPL 2022-02-04            0.220"
            ],
            "text/html": [
              "\n",
              "  <div id=\"df-0eecf068-aceb-43b9-b4e4-773e9c35b632\" class=\"colab-df-container\">\n",
              "    <div>\n",
              "<style scoped>\n",
              "    .dataframe tbody tr th:only-of-type {\n",
              "        vertical-align: middle;\n",
              "    }\n",
              "\n",
              "    .dataframe tbody tr th {\n",
              "        vertical-align: top;\n",
              "    }\n",
              "\n",
              "    .dataframe thead th {\n",
              "        text-align: right;\n",
              "    }\n",
              "</style>\n",
              "<table border=\"1\" class=\"dataframe\">\n",
              "  <thead>\n",
              "    <tr style=\"text-align: right;\">\n",
              "      <th></th>\n",
              "      <th>Ticker</th>\n",
              "      <th>Date</th>\n",
              "      <th>Dividend Amount</th>\n",
              "    </tr>\n",
              "  </thead>\n",
              "  <tbody>\n",
              "    <tr>\n",
              "      <th>69</th>\n",
              "      <td>AAPL</td>\n",
              "      <td>2021-02-05</td>\n",
              "      <td>0.205</td>\n",
              "    </tr>\n",
              "    <tr>\n",
              "      <th>70</th>\n",
              "      <td>AAPL</td>\n",
              "      <td>2021-05-07</td>\n",
              "      <td>0.220</td>\n",
              "    </tr>\n",
              "    <tr>\n",
              "      <th>71</th>\n",
              "      <td>AAPL</td>\n",
              "      <td>2021-08-06</td>\n",
              "      <td>0.220</td>\n",
              "    </tr>\n",
              "    <tr>\n",
              "      <th>72</th>\n",
              "      <td>AAPL</td>\n",
              "      <td>2021-11-05</td>\n",
              "      <td>0.220</td>\n",
              "    </tr>\n",
              "    <tr>\n",
              "      <th>73</th>\n",
              "      <td>AAPL</td>\n",
              "      <td>2022-02-04</td>\n",
              "      <td>0.220</td>\n",
              "    </tr>\n",
              "  </tbody>\n",
              "</table>\n",
              "</div>\n",
              "    <div class=\"colab-df-buttons\">\n",
              "\n",
              "  <div class=\"colab-df-container\">\n",
              "    <button class=\"colab-df-convert\" onclick=\"convertToInteractive('df-0eecf068-aceb-43b9-b4e4-773e9c35b632')\"\n",
              "            title=\"Convert this dataframe to an interactive table.\"\n",
              "            style=\"display:none;\">\n",
              "\n",
              "  <svg xmlns=\"http://www.w3.org/2000/svg\" height=\"24px\" viewBox=\"0 -960 960 960\">\n",
              "    <path d=\"M120-120v-720h720v720H120Zm60-500h600v-160H180v160Zm220 220h160v-160H400v160Zm0 220h160v-160H400v160ZM180-400h160v-160H180v160Zm440 0h160v-160H620v160ZM180-180h160v-160H180v160Zm440 0h160v-160H620v160Z\"/>\n",
              "  </svg>\n",
              "    </button>\n",
              "\n",
              "  <style>\n",
              "    .colab-df-container {\n",
              "      display:flex;\n",
              "      gap: 12px;\n",
              "    }\n",
              "\n",
              "    .colab-df-convert {\n",
              "      background-color: #E8F0FE;\n",
              "      border: none;\n",
              "      border-radius: 50%;\n",
              "      cursor: pointer;\n",
              "      display: none;\n",
              "      fill: #1967D2;\n",
              "      height: 32px;\n",
              "      padding: 0 0 0 0;\n",
              "      width: 32px;\n",
              "    }\n",
              "\n",
              "    .colab-df-convert:hover {\n",
              "      background-color: #E2EBFA;\n",
              "      box-shadow: 0px 1px 2px rgba(60, 64, 67, 0.3), 0px 1px 3px 1px rgba(60, 64, 67, 0.15);\n",
              "      fill: #174EA6;\n",
              "    }\n",
              "\n",
              "    .colab-df-buttons div {\n",
              "      margin-bottom: 4px;\n",
              "    }\n",
              "\n",
              "    [theme=dark] .colab-df-convert {\n",
              "      background-color: #3B4455;\n",
              "      fill: #D2E3FC;\n",
              "    }\n",
              "\n",
              "    [theme=dark] .colab-df-convert:hover {\n",
              "      background-color: #434B5C;\n",
              "      box-shadow: 0px 1px 3px 1px rgba(0, 0, 0, 0.15);\n",
              "      filter: drop-shadow(0px 1px 2px rgba(0, 0, 0, 0.3));\n",
              "      fill: #FFFFFF;\n",
              "    }\n",
              "  </style>\n",
              "\n",
              "    <script>\n",
              "      const buttonEl =\n",
              "        document.querySelector('#df-0eecf068-aceb-43b9-b4e4-773e9c35b632 button.colab-df-convert');\n",
              "      buttonEl.style.display =\n",
              "        google.colab.kernel.accessAllowed ? 'block' : 'none';\n",
              "\n",
              "      async function convertToInteractive(key) {\n",
              "        const element = document.querySelector('#df-0eecf068-aceb-43b9-b4e4-773e9c35b632');\n",
              "        const dataTable =\n",
              "          await google.colab.kernel.invokeFunction('convertToInteractive',\n",
              "                                                    [key], {});\n",
              "        if (!dataTable) return;\n",
              "\n",
              "        const docLinkHtml = 'Like what you see? Visit the ' +\n",
              "          '<a target=\"_blank\" href=https://colab.research.google.com/notebooks/data_table.ipynb>data table notebook</a>'\n",
              "          + ' to learn more about interactive tables.';\n",
              "        element.innerHTML = '';\n",
              "        dataTable['output_type'] = 'display_data';\n",
              "        await google.colab.output.renderOutput(dataTable, element);\n",
              "        const docLink = document.createElement('div');\n",
              "        docLink.innerHTML = docLinkHtml;\n",
              "        element.appendChild(docLink);\n",
              "      }\n",
              "    </script>\n",
              "  </div>\n",
              "\n",
              "\n",
              "    <div id=\"df-b63a7198-914d-41ab-bce2-c47c6717f4a8\">\n",
              "      <button class=\"colab-df-quickchart\" onclick=\"quickchart('df-b63a7198-914d-41ab-bce2-c47c6717f4a8')\"\n",
              "                title=\"Suggest charts\"\n",
              "                style=\"display:none;\">\n",
              "\n",
              "<svg xmlns=\"http://www.w3.org/2000/svg\" height=\"24px\"viewBox=\"0 0 24 24\"\n",
              "     width=\"24px\">\n",
              "    <g>\n",
              "        <path d=\"M19 3H5c-1.1 0-2 .9-2 2v14c0 1.1.9 2 2 2h14c1.1 0 2-.9 2-2V5c0-1.1-.9-2-2-2zM9 17H7v-7h2v7zm4 0h-2V7h2v10zm4 0h-2v-4h2v4z\"/>\n",
              "    </g>\n",
              "</svg>\n",
              "      </button>\n",
              "\n",
              "<style>\n",
              "  .colab-df-quickchart {\n",
              "      --bg-color: #E8F0FE;\n",
              "      --fill-color: #1967D2;\n",
              "      --hover-bg-color: #E2EBFA;\n",
              "      --hover-fill-color: #174EA6;\n",
              "      --disabled-fill-color: #AAA;\n",
              "      --disabled-bg-color: #DDD;\n",
              "  }\n",
              "\n",
              "  [theme=dark] .colab-df-quickchart {\n",
              "      --bg-color: #3B4455;\n",
              "      --fill-color: #D2E3FC;\n",
              "      --hover-bg-color: #434B5C;\n",
              "      --hover-fill-color: #FFFFFF;\n",
              "      --disabled-bg-color: #3B4455;\n",
              "      --disabled-fill-color: #666;\n",
              "  }\n",
              "\n",
              "  .colab-df-quickchart {\n",
              "    background-color: var(--bg-color);\n",
              "    border: none;\n",
              "    border-radius: 50%;\n",
              "    cursor: pointer;\n",
              "    display: none;\n",
              "    fill: var(--fill-color);\n",
              "    height: 32px;\n",
              "    padding: 0;\n",
              "    width: 32px;\n",
              "  }\n",
              "\n",
              "  .colab-df-quickchart:hover {\n",
              "    background-color: var(--hover-bg-color);\n",
              "    box-shadow: 0 1px 2px rgba(60, 64, 67, 0.3), 0 1px 3px 1px rgba(60, 64, 67, 0.15);\n",
              "    fill: var(--button-hover-fill-color);\n",
              "  }\n",
              "\n",
              "  .colab-df-quickchart-complete:disabled,\n",
              "  .colab-df-quickchart-complete:disabled:hover {\n",
              "    background-color: var(--disabled-bg-color);\n",
              "    fill: var(--disabled-fill-color);\n",
              "    box-shadow: none;\n",
              "  }\n",
              "\n",
              "  .colab-df-spinner {\n",
              "    border: 2px solid var(--fill-color);\n",
              "    border-color: transparent;\n",
              "    border-bottom-color: var(--fill-color);\n",
              "    animation:\n",
              "      spin 1s steps(1) infinite;\n",
              "  }\n",
              "\n",
              "  @keyframes spin {\n",
              "    0% {\n",
              "      border-color: transparent;\n",
              "      border-bottom-color: var(--fill-color);\n",
              "      border-left-color: var(--fill-color);\n",
              "    }\n",
              "    20% {\n",
              "      border-color: transparent;\n",
              "      border-left-color: var(--fill-color);\n",
              "      border-top-color: var(--fill-color);\n",
              "    }\n",
              "    30% {\n",
              "      border-color: transparent;\n",
              "      border-left-color: var(--fill-color);\n",
              "      border-top-color: var(--fill-color);\n",
              "      border-right-color: var(--fill-color);\n",
              "    }\n",
              "    40% {\n",
              "      border-color: transparent;\n",
              "      border-right-color: var(--fill-color);\n",
              "      border-top-color: var(--fill-color);\n",
              "    }\n",
              "    60% {\n",
              "      border-color: transparent;\n",
              "      border-right-color: var(--fill-color);\n",
              "    }\n",
              "    80% {\n",
              "      border-color: transparent;\n",
              "      border-right-color: var(--fill-color);\n",
              "      border-bottom-color: var(--fill-color);\n",
              "    }\n",
              "    90% {\n",
              "      border-color: transparent;\n",
              "      border-bottom-color: var(--fill-color);\n",
              "    }\n",
              "  }\n",
              "</style>\n",
              "\n",
              "      <script>\n",
              "        async function quickchart(key) {\n",
              "          const quickchartButtonEl =\n",
              "            document.querySelector('#' + key + ' button');\n",
              "          quickchartButtonEl.disabled = true;  // To prevent multiple clicks.\n",
              "          quickchartButtonEl.classList.add('colab-df-spinner');\n",
              "          try {\n",
              "            const charts = await google.colab.kernel.invokeFunction(\n",
              "                'suggestCharts', [key], {});\n",
              "          } catch (error) {\n",
              "            console.error('Error during call to suggestCharts:', error);\n",
              "          }\n",
              "          quickchartButtonEl.classList.remove('colab-df-spinner');\n",
              "          quickchartButtonEl.classList.add('colab-df-quickchart-complete');\n",
              "        }\n",
              "        (() => {\n",
              "          let quickchartButtonEl =\n",
              "            document.querySelector('#df-b63a7198-914d-41ab-bce2-c47c6717f4a8 button');\n",
              "          quickchartButtonEl.style.display =\n",
              "            google.colab.kernel.accessAllowed ? 'block' : 'none';\n",
              "        })();\n",
              "      </script>\n",
              "    </div>\n",
              "\n",
              "    </div>\n",
              "  </div>\n"
            ],
            "application/vnd.google.colaboratory.intrinsic+json": {
              "type": "dataframe",
              "variable_name": "master_dividends_db",
              "summary": "{\n  \"name\": \"master_dividends_db\",\n  \"rows\": 70,\n  \"fields\": [\n    {\n      \"column\": \"Ticker\",\n      \"properties\": {\n        \"dtype\": \"category\",\n        \"num_unique_values\": 5,\n        \"samples\": [\n          \"MSFT\",\n          \"GOOG\",\n          \"NVDA\"\n        ],\n        \"semantic_type\": \"\",\n        \"description\": \"\"\n      }\n    },\n    {\n      \"column\": \"Date\",\n      \"properties\": {\n        \"dtype\": \"date\",\n        \"min\": \"2021-02-05 00:00:00\",\n        \"max\": \"2025-09-22 00:00:00\",\n        \"num_unique_values\": 70,\n        \"samples\": [\n          \"2021-11-17 00:00:00\",\n          \"2021-02-05 00:00:00\",\n          \"2023-12-05 00:00:00\"\n        ],\n        \"semantic_type\": \"\",\n        \"description\": \"\"\n      }\n    },\n    {\n      \"column\": \"Dividend Amount\",\n      \"properties\": {\n        \"dtype\": \"number\",\n        \"std\": 0.27401738470789255,\n        \"min\": 0.004,\n        \"max\": 0.83,\n        \"num_unique_values\": 17,\n        \"samples\": [\n          0.205,\n          0.22,\n          0.26\n        ],\n        \"semantic_type\": \"\",\n        \"description\": \"\"\n      }\n    }\n  ]\n}"
            }
          },
          "metadata": {},
          "execution_count": 8
        }
      ]
    },
    {
      "cell_type": "code",
      "source": [
        "plt.figure(figsize=(14, 7))\n",
        "for ticker in tickers:\n",
        "  ticker_data = master_dividends_db[master_dividends_db['Ticker'] == ticker]\n",
        "  plt.plot(\n",
        "        ticker_data['Date'],\n",
        "        ticker_data['Dividend Amount'],\n",
        "        marker='o',\n",
        "        label=ticker\n",
        "    )\n",
        "plt.title('Dividend Amount Over Time by Company', fontsize=16)\n",
        "plt.xlabel('Date', fontsize=12)\n",
        "plt.ylabel('Dividend Amount ($)', fontsize=12)\n",
        "plt.legend(loc='upper left')"
      ],
      "metadata": {
        "colab": {
          "base_uri": "https://localhost:8080/",
          "height": 664
        },
        "id": "U8HqFiH2oSBC",
        "outputId": "caad8d51-df9a-4a70-b55d-2a96cb967681"
      },
      "id": "U8HqFiH2oSBC",
      "execution_count": 11,
      "outputs": [
        {
          "output_type": "execute_result",
          "data": {
            "text/plain": [
              "<matplotlib.legend.Legend at 0x7ce3493ec050>"
            ]
          },
          "metadata": {},
          "execution_count": 11
        },
        {
          "output_type": "display_data",
          "data": {
            "text/plain": [
              "<Figure size 1400x700 with 1 Axes>"
            ],
            "image/png": "[encoded data removed]"
          },
          "metadata": {}
        }
      ]
    },
    {
      "cell_type": "markdown",
      "source": [
        "##Stock price High & Lows"
      ],
      "metadata": {
        "id": "tdYjO_rRSAjj"
      },
      "id": "tdYjO_rRSAjj"
    },
    {
      "cell_type": "code",
      "source": [
        "#stock: high and lows\n",
        "\n",
        "stock_data = yf.download(tickers, start=\"2021-01-01\", end=\"2025-04-30\", group_by='tickers')\n",
        "monthly_last_value = stock_data.resample('M').last()\n",
        "monthly_last_value"
      ],
      "metadata": {
        "id": "wTCWO-CGRYR6"
      },
      "id": "wTCWO-CGRYR6",
      "execution_count": null,
      "outputs": []
    },
    {
      "cell_type": "code",
      "source": [
        "plt.figure(figsize=(14, 7))\n",
        "for ticker in tickers:\n",
        "    plt.plot(monthly_last_value.index, monthly_last_value[(ticker, 'High')].values,\n",
        "             linestyle='--',\n",
        "             alpha=0.7,\n",
        "             label=f'{ticker} High')\n",
        "\n",
        "plt.title('Monthly Closing Price High Trends (2021-2025)', fontsize=16)\n",
        "plt.xlabel('Date', fontsize=12)\n",
        "plt.ylabel('Price ($)', fontsize=12)\n",
        "plt.legend(title='Ticker & Price Level', ncol=3)"
      ],
      "metadata": {
        "id": "--rHcEKxZ-o9"
      },
      "id": "--rHcEKxZ-o9",
      "execution_count": null,
      "outputs": []
    },
    {
      "cell_type": "markdown",
      "source": [
        "#Final DataFrame focused on growth datas-- Percentages of Change (Earnings per share; Revenue; net income; operating cashflow)"
      ],
      "metadata": {
        "id": "DIhmyPezVyY0"
      },
      "id": "DIhmyPezVyY0"
    },
    {
      "cell_type": "code",
      "source": [
        "#large Dataframe combining datas we would like to focus on oberserving growth from\n",
        "data_dict = {\n",
        "    'EPS change rate (%)': df_eps_growth,\n",
        "    'Revenue change rate (%)': df_revenue_growth_rate,\n",
        "    'Net Income change rate (%)': df_ni_growth,\n",
        "    'Operating Cashflow change rate (%)': df_opc_growth}\n",
        "big_df = pd.concat(data_dict)\n",
        "big_df\n"
      ],
      "metadata": {
        "id": "4zjYquONsJXV"
      },
      "id": "4zjYquONsJXV",
      "execution_count": null,
      "outputs": []
    },
    {
      "cell_type": "code",
      "source": [
        "#Large Dataframe Visualizations\n",
        "num_rows = 2\n",
        "num_cols = 2\n",
        "data_index = 0\n",
        "fig, axes = plt.subplots(num_rows, num_cols, figsize=(14, 10)) #create subplots\n",
        "\n",
        "plot_keys = list(data_dict.keys())\n",
        "\n",
        "for row in range(num_rows):\n",
        "    for col in range(num_cols):\n",
        "\n",
        "        # Stop if we run out of data\n",
        "        if data_index >= len(plot_keys):\n",
        "            break\n",
        "\n",
        "        data = plot_keys[data_index]\n",
        "        ax= axes[row, col]\n",
        "\n",
        "        df_data = big_df.loc[data]\n",
        "        sns.lineplot(data=df_data, ax = ax)\n",
        "\n",
        "        ax.set_title(data, fontweight='bold')\n",
        "        ax.set_xlabel('Year')\n",
        "        ax.set_ylabel('Change Rate (%)')\n",
        "\n",
        "        data_index += 1\n",
        "\n",
        "plt.tight_layout()\n",
        "plt.show()"
      ],
      "metadata": {
        "id": "plECM4z7tEOH"
      },
      "id": "plECM4z7tEOH",
      "execution_count": null,
      "outputs": []
    },
    {
      "cell_type": "markdown",
      "source": [
        "##Investment Valuation Model 1 -- Based on Forward PE ratio & cash conversion ratio"
      ],
      "metadata": {
        "id": "HI78QTYTjjb0"
      },
      "id": "HI78QTYTjjb0"
    },
    {
      "cell_type": "code",
      "source": [
        "ccr_latest_series = ccr_plot.iloc[-1]\n",
        "df_ccr_latest = pd.DataFrame(ccr_latest_series).rename(columns={ccr_latest_series.name: 'Latest CCR'})"
      ],
      "metadata": {
        "id": "kJYPXW-q8Go6"
      },
      "id": "kJYPXW-q8Go6",
      "execution_count": null,
      "outputs": []
    },
    {
      "cell_type": "code",
      "source": [
        "df_evaluation = pe_df[['Forward P/E']].merge(\n",
        "    df_ccr_latest,\n",
        "    left_index=True,\n",
        "    right_index=True\n",
        ")\n",
        "\n",
        "df_evaluation    #dataframe combining both the forward P/E and 2025 CCR data"
      ],
      "metadata": {
        "id": "iJbQS-bx96HN"
      },
      "id": "iJbQS-bx96HN",
      "execution_count": null,
      "outputs": []
    },
    {
      "cell_type": "code",
      "source": [
        "#function to figure out which company is best to invest in\n",
        "def evaluate_investments(df_metrics):\n",
        "\n",
        "  df_metrics['Investment Score'] = (\n",
        "        df_metrics['Latest CCR'] / df_metrics['Forward P/E']\n",
        "    )\n",
        "\n",
        "  df_metrics['Investment Rank'] = df_metrics['Investment Score'].rank(\n",
        "        ascending=False, method='min'\n",
        "    ).astype(int)\n",
        "\n",
        "  df_metrics.sort_values(\n",
        "        by='Investment Score', ascending=False, inplace=True\n",
        "    )\n",
        "\n",
        "  return df_metrics[['Forward P/E', 'Latest CCR', 'Investment Score', 'Investment Rank']]\n"
      ],
      "metadata": {
        "id": "qH7w7Ev34_2C"
      },
      "id": "qH7w7Ev34_2C",
      "execution_count": null,
      "outputs": []
    },
    {
      "cell_type": "code",
      "source": [
        "df_ranked = evaluate_investments(df_evaluation)\n",
        "df_ranked"
      ],
      "metadata": {
        "id": "gawXjJjsBN46"
      },
      "id": "gawXjJjsBN46",
      "execution_count": null,
      "outputs": []
    },
    {
      "cell_type": "code",
      "source": [
        "df_ni.loc['2025'].sort_values(ascending=False)\n",
        "df_ni.loc['2025'].rename('2025 Net Income in descending order', inplace=True)"
      ],
      "metadata": {
        "id": "SmdTrgA4BoF0"
      },
      "id": "SmdTrgA4BoF0",
      "execution_count": null,
      "outputs": []
    },
    {
      "cell_type": "code",
      "source": [],
      "metadata": {
        "id": "GB9dpZIwfl6s"
      },
      "id": "GB9dpZIwfl6s",
      "execution_count": null,
      "outputs": []
    }
  ],
  "metadata": {
    "kernelspec": {
      "display_name": "Python 3 (ipykernel)",
      "language": "python",
      "name": "python3"
    },
    "language_info": {
      "codemirror_mode": {
        "name": "ipython",
        "version": 3
      },
      "file_extension": ".py",
      "mimetype": "text/x-python",
      "name": "python",
      "nbconvert_exporter": "python",
      "pygments_lexer": "ipython3",
      "version": "3.12.0"
    },
    "colab": {
      "provenance": [],
      "include_colab_link": true
    }
  },
  "nbformat": 4,
  "nbformat_minor": 5
}